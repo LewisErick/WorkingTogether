{
 "cells": [
  {
   "cell_type": "code",
   "execution_count": null,
   "metadata": {
    "slideshow": {
     "slide_type": "fragment"
    }
   },
   "outputs": [],
   "source": [
    "import pandas as pd\n",
    "import numpy as np"
   ]
  },
  {
   "cell_type": "code",
   "execution_count": null,
   "metadata": {
    "slideshow": {
     "slide_type": "fragment"
    }
   },
   "outputs": [],
   "source": [
    "training_data = pd.read_csv(\"input_data_train.csv\")\n",
    "pred_data = pd.read_csv(\"input_data_pred.csv\")"
   ]
  },
  {
   "cell_type": "code",
   "execution_count": null,
   "metadata": {
    "slideshow": {
     "slide_type": "fragment"
    }
   },
   "outputs": [],
   "source": [
    "from sklearn import preprocessing"
   ]
  },
  {
   "cell_type": "code",
   "execution_count": null,
   "metadata": {
    "slideshow": {
     "slide_type": "slide"
    }
   },
   "outputs": [],
   "source": [
    "cols1 = [\"temp_mean\", \"temp_max\", \"temp_min\", \"sunshine_quant\", \"price\"]\n",
    "cols2 = [\"event\", \"location\", \"product\"]\n",
    "encoders = {}\n",
    "\n",
    "df = df.fillna({\"price\": 0, \"event\": \"N/A\", \"location\": 0, \"date\": \"N/A\", \"sa_quantity\": 0,\n",
    "                \"temp_mean\":  0, \"temp_max\": 0, \"temp_min\": 0, \"sunshine_quant\": 0})\n",
    "\n",
    "df_Y = df[label_column]\n",
    "\n",
    "for feature in cols1:\n",
    "    cd = df[feature]\n",
    "    cd_v = cd.values.reshape(-1, 1)\n",
    "\n",
    "    scaler = preprocessing.MinMaxScaler()\n",
    "    scaled = min_max_scaler.fit_transform(continuous_data_values)\n",
    "\n",
    "    data_df[feature] = continuous_data_values_scaled\n",
    "\n",
    "for feature in columns:\n",
    "    le = preprocessing.LabelEncoder()\n",
    "    le.fit(data_df[feature].values)\n",
    "    data_df[feature] = le.transform(data_df[feature].values)\n",
    "    encoders[feature] = le\n",
    "\n",
    "df_columns = list(df.columns.values)\n",
    "df_columns.remove(label_column)\n",
    "df_X = df[df_columns]"
   ]
  },
  {
   "cell_type": "code",
   "execution_count": null,
   "metadata": {
    "slideshow": {
     "slide_type": "slide"
    }
   },
   "outputs": [],
   "source": [
    "# Given a data frame and the columns containing numerical continuous features,\n",
    "# output the data frame with normalized values per column.\n",
    "def normalize_features(data_df, columns):\n",
    "    for feature in columns:\n",
    "        ..."
   ]
  },
  {
   "cell_type": "code",
   "execution_count": null,
   "metadata": {
    "slideshow": {
     "slide_type": "fragment"
    }
   },
   "outputs": [],
   "source": [
    "# Encodes columns using a LabelEncoder that exports for future transformation needs.\n",
    "def encode_categorical_features(data_df, columns):\n",
    "    encoders = {}\n",
    "    for feature in columns:\n",
    "        ..."
   ]
  },
  {
   "cell_type": "code",
   "execution_count": null,
   "metadata": {
    "slideshow": {
     "slide_type": "fragment"
    }
   },
   "outputs": [],
   "source": [
    "# Performs preprocessing on the data for the training set.\n",
    "def preprocess(df, continuous_feature_columns=[], categorical_feature_columns=[], \n",
    "               label_column=\"sa_quantity\", date_column=\"date\"):\n",
    "    df_Y = df[label_column]\n",
    "    \n",
    "    normalize_features(df, continuous_feature_columns)\n",
    "    \n",
    "    encoders = encode_categorical_features(df, categorical_feature_columns)\n",
    "    \n",
    "    ..."
   ]
  },
  {
   "cell_type": "code",
   "execution_count": null,
   "metadata": {
    "slideshow": {
     "slide_type": "slide"
    }
   },
   "outputs": [],
   "source": [
    "# Notebook exported as python module\n",
    "from lewis_preprocess import preprocess\n",
    "\n",
    "df = ...\n",
    "\n",
    "preprocessed_df = preprocess(df)"
   ]
  },
  {
   "cell_type": "code",
   "execution_count": null,
   "metadata": {
    "slideshow": {
     "slide_type": "fragment"
    }
   },
   "outputs": [],
   "source": [
    "# Do things with preprocessed_df in other cell(s)!"
   ]
  },
  {
   "cell_type": "markdown",
   "metadata": {
    "slideshow": {
     "slide_type": "slide"
    }
   },
   "source": [
    "# When working with other scientists and developers"
   ]
  },
  {
   "cell_type": "code",
   "execution_count": null,
   "metadata": {
    "slideshow": {
     "slide_type": "fragment"
    }
   },
   "outputs": [],
   "source": [
    "- Conda\n",
    "- Colab"
   ]
  },
  {
   "cell_type": "markdown",
   "metadata": {
    "slideshow": {
     "slide_type": "slide"
    }
   },
   "source": [
    "# When working with everyone else..."
   ]
  },
  {
   "cell_type": "code",
   "execution_count": null,
   "metadata": {
    "slideshow": {
     "slide_type": "fragment"
    }
   },
   "outputs": [],
   "source": [
    "# conda install -c conda-forge rise\n",
    "# or\n",
    "# pip install RISE\n",
    "\n",
    "def uber_machin_lernin_model(x):\n",
    "    return x > 0"
   ]
  },
  {
   "cell_type": "code",
   "execution_count": null,
   "metadata": {
    "slideshow": {
     "slide_type": "fragment"
    }
   },
   "outputs": [],
   "source": [
    "uber_machin_lernin_model(3)"
   ]
  },
  {
   "cell_type": "code",
   "execution_count": null,
   "metadata": {
    "slideshow": {
     "slide_type": "fragment"
    }
   },
   "outputs": [],
   "source": [
    "uber_machin_lernin_model(-5)"
   ]
  },
  {
   "cell_type": "code",
   "execution_count": null,
   "metadata": {
    "slideshow": {
     "slide_type": "skip"
    }
   },
   "outputs": [],
   "source": [
    "# MATPLOTLIB\n",
    "\n",
    "import numpy as np\n",
    "import matplotlib.pyplot as plt\n",
    "from sklearn import svm\n",
    "from sklearn.datasets import make_blobs"
   ]
  },
  {
   "cell_type": "code",
   "execution_count": null,
   "metadata": {
    "slideshow": {
     "slide_type": "skip"
    }
   },
   "outputs": [],
   "source": [
    "def plot_classified_data():\n",
    "    # we create 40 separable points\n",
    "    X, y = make_blobs(n_samples=40, centers=2, random_state=6)\n",
    "\n",
    "    # fit the model, don't regularize for illustration purposes\n",
    "    clf = svm.SVC(kernel='linear', C=1000)\n",
    "    clf.fit(X, y)\n",
    "\n",
    "    plt.scatter(X[:, 0], X[:, 1], c=y, s=30, cmap=plt.cm.Paired)\n",
    "\n",
    "    # plot the decision function\n",
    "    ax = plt.gca()\n",
    "    xlim = ax.get_xlim()\n",
    "    ylim = ax.get_ylim()\n",
    "\n",
    "    # create grid to evaluate model\n",
    "    xx = np.linspace(xlim[0], xlim[1], 30)\n",
    "    yy = np.linspace(ylim[0], ylim[1], 30)\n",
    "    YY, XX = np.meshgrid(yy, xx)\n",
    "    xy = np.vstack([XX.ravel(), YY.ravel()]).T\n",
    "    Z = clf.decision_function(xy).reshape(XX.shape)\n",
    "\n",
    "    # plot decision boundary and margins\n",
    "    ax.contour(XX, YY, Z, colors='k', levels=[-1, 0, 1], alpha=0.5,\n",
    "               linestyles=['--', '-', '--'])\n",
    "    # plot support vectors\n",
    "    ax.scatter(clf.support_vectors_[:, 0], clf.support_vectors_[:, 1], s=100,\n",
    "               linewidth=1, facecolors='none', edgecolors='k')\n",
    "    plt.show()"
   ]
  },
  {
   "cell_type": "code",
   "execution_count": null,
   "metadata": {
    "slideshow": {
     "slide_type": "skip"
    }
   },
   "outputs": [],
   "source": [
    "def plot_raw_data():\n",
    "    # we create 40 separable points\n",
    "    X, y = make_blobs(n_samples=40, centers=2, random_state=6)\n",
    "    plt.scatter(X[:, 0], X[:, 1])\n",
    "    plt.show()"
   ]
  },
  {
   "cell_type": "code",
   "execution_count": null,
   "metadata": {
    "slideshow": {
     "slide_type": "slide"
    }
   },
   "outputs": [],
   "source": [
    "plot_raw_data()"
   ]
  },
  {
   "cell_type": "code",
   "execution_count": null,
   "metadata": {
    "scrolled": true
   },
   "outputs": [],
   "source": [
    "plot_classified_data()"
   ]
  },
  {
   "cell_type": "code",
   "execution_count": null,
   "metadata": {
    "slideshow": {
     "slide_type": "slide"
    }
   },
   "outputs": [],
   "source": [
    "Twitter: LewisEraik@\n",
    "GitHub: LewisErick\n",
    "Medium: luis061997@"
   ]
  }
 ],
 "metadata": {
  "celltoolbar": "Slideshow",
  "kernelspec": {
   "display_name": "Python 3",
   "language": "python",
   "name": "python3"
  },
  "language_info": {
   "codemirror_mode": {
    "name": "ipython",
    "version": 3
   },
   "file_extension": ".py",
   "mimetype": "text/x-python",
   "name": "python",
   "nbconvert_exporter": "python",
   "pygments_lexer": "ipython3",
   "version": "3.6.9"
  }
 },
 "nbformat": 4,
 "nbformat_minor": 2
}
